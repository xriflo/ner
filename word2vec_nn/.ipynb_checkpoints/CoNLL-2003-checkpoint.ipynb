{
 "cells": [
  {
   "cell_type": "markdown",
   "metadata": {},
   "source": [
    "## Import libraries"
   ]
  },
  {
   "cell_type": "code",
   "execution_count": 12,
   "metadata": {
    "collapsed": false
   },
   "outputs": [],
   "source": [
    "import neural_network\n",
    "import subprocess\n",
    "import utils\n",
    "import pybrain\n",
    "import sys\n",
    "import theano as T\n",
    "import lasagne as L\n",
    "import numpy as np\n",
    "sys.path.append('/usr/local/lib/python2.7/dist-packages')\n",
    "sys.path.append('/home/flori/anaconda2/lib/python2.7/site-packages/PyBrain-0.3.3-py2.7.egg')\n",
    "import word2vec\n",
    "utils = reload(utils)\n",
    "#neural_network = reload(neural_network)"
   ]
  },
  {
   "cell_type": "markdown",
   "metadata": {},
   "source": [
    "## Get rid of special characters, get target classes"
   ]
  },
  {
   "cell_type": "code",
   "execution_count": 13,
   "metadata": {
    "collapsed": false
   },
   "outputs": [],
   "source": [
    "entity_tags, targets_entity = utils.fromCorpusToRaw(\"eng.train.txt\", \"eng.train.processed\")"
   ]
  },
  {
   "cell_type": "markdown",
   "metadata": {},
   "source": [
    "## Train word2vec"
   ]
  },
  {
   "cell_type": "code",
   "execution_count": 14,
   "metadata": {
    "collapsed": false
   },
   "outputs": [
    {
     "name": "stdout",
     "output_type": "stream",
     "text": [
      "Starting training using file eng.train.processed\n",
      "Vocab size: 21771\n",
      "Words in train file: 173614\n",
      "Alpha: 0.000541  Progress: 100.26%  Words/thread/sec: 374.47k  "
     ]
    }
   ],
   "source": [
    "word2vec.word2vec('eng.train.processed', 'eng.train.bin', size=80, verbose=True, min_count=0, window=1, threads=4)"
   ]
  },
  {
   "cell_type": "code",
   "execution_count": 15,
   "metadata": {
    "collapsed": false
   },
   "outputs": [],
   "source": [
    "model = word2vec.load('eng.train.bin')"
   ]
  },
  {
   "cell_type": "markdown",
   "metadata": {},
   "source": [
    "## Gather data"
   ]
  },
  {
   "cell_type": "code",
   "execution_count": 16,
   "metadata": {
    "collapsed": false
   },
   "outputs": [],
   "source": [
    "dataset, targets, target_values = utils.loadDataset(model, entity_tags, targets_entity)"
   ]
  },
  {
   "cell_type": "markdown",
   "metadata": {},
   "source": [
    "## Test similarity"
   ]
  },
  {
   "cell_type": "code",
   "execution_count": 17,
   "metadata": {
    "collapsed": false
   },
   "outputs": [],
   "source": [
    "indexes, metrics = model.analogy(pos=['of'], neg=[], n=10)"
   ]
  },
  {
   "cell_type": "code",
   "execution_count": 18,
   "metadata": {
    "collapsed": false
   },
   "outputs": [
    {
     "data": {
      "text/plain": [
       "[(u'from', 0.9960322114834994),\n",
       " (u'at', 0.995082360247425),\n",
       " (u'for', 0.9949627760899155),\n",
       " (u'by', 0.993098813371862),\n",
       " (u'with', 0.9927336870839781),\n",
       " (u'over', 0.9905142285671025),\n",
       " (u'in', 0.9887085322232745),\n",
       " (u'new', 0.9883070438649945),\n",
       " (u'after', 0.9882142554108759),\n",
       " (u'during', 0.9874163992053474)]"
      ]
     },
     "execution_count": 18,
     "metadata": {},
     "output_type": "execute_result"
    }
   ],
   "source": [
    "model.generate_response(indexes, metrics).tolist()"
   ]
  },
  {
   "cell_type": "code",
   "execution_count": 44,
   "metadata": {
    "collapsed": true
   },
   "outputs": [],
   "source": [
    "np.save(\"dataset.in\", dataset)\n",
    "np.save(\"targets.in\", targets)"
   ]
  },
  {
   "cell_type": "code",
   "execution_count": null,
   "metadata": {
    "collapsed": true
   },
   "outputs": [],
   "source": []
  }
 ],
 "metadata": {
  "kernelspec": {
   "display_name": "Python 2",
   "language": "python",
   "name": "python2"
  },
  "language_info": {
   "codemirror_mode": {
    "name": "ipython",
    "version": 2
   },
   "file_extension": ".py",
   "mimetype": "text/x-python",
   "name": "python",
   "nbconvert_exporter": "python",
   "pygments_lexer": "ipython2",
   "version": "2.7.11"
  }
 },
 "nbformat": 4,
 "nbformat_minor": 0
}
